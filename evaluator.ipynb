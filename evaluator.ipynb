{
  "cells": [
    {
      "cell_type": "markdown",
      "metadata": {
        "id": "view-in-github",
        "colab_type": "text"
      },
      "source": [
        "<a href=\"https://colab.research.google.com/github/alexjihun8/template-exercise/blob/main/evaluator.ipynb\" target=\"_parent\"><img src=\"https://colab.research.google.com/assets/colab-badge.svg\" alt=\"Open In Colab\"/></a>"
      ]
    },
    {
      "cell_type": "code",
      "execution_count": 57,
      "metadata": {
        "id": "RiXO_j2wYM2-"
      },
      "outputs": [],
      "source": [
        "import importlib.util\n",
        "import os\n",
        "import time\n",
        "import json\n",
        "import ast\n",
        "\n",
        "\n",
        "class Evaluator:\n",
        "    def __init__(self, student_module_name):\n",
        "        self.student_module_name = student_module_name\n",
        "        self.student_module = self._import_student_module(student_module_name)\n",
        "        self.allowed_imports = ['time', 'matplotlib.pyplot', 'sys', 'tqdm', 'random', 'json']\n",
        "        self.disallowed_builtins = ['sorted']\n",
        "        self.disallowed_methods = ['sort']\n",
        "        self.problem_list = ['problem1a', 'problem1b', 'problem1c', 'problem2', 'problem3', 'problem5']\n",
        "        self.input_data = { }\n",
        "        '''problem1a': [[1, 5, 6, 3, 2, 2]]\n",
        "            'problem1b': [[1, 3, 2, 5, 2, 6]],\n",
        "            'problem1c': [[5, 2, 3, 2, 6, 1]]}'''\n",
        "        self.expected_outputs = { }\n",
        "        '''problem1a': [[1, 2, 2, 3, 5, 6]],\n",
        "            'problem1b': [[1, 2, 2, 3, 5, 6]],\n",
        "            'problem1c': [[1, 2, 2, 3, 5, 6]]}'''\n",
        "        self.points = { }\n",
        "        '''problem1a': [5],\n",
        "            'problem1b': [10],\n",
        "            'problem1c': [10]}'''\n",
        "        self.time_limits = { }\n",
        "        '''problem1a': [1],\n",
        "            'problem1b': [2],\n",
        "            'problem1c': [2]}'''\n",
        "\n",
        "    def _import_student_module(self, module_name):\n",
        "        module_path = f\"{module_name}.py\"\n",
        "        if not os.path.exists(module_path):\n",
        "            raise FileNotFoundError(f\"Module {module_path} not found.\")\n",
        "        spec = importlib.util.spec_from_file_location(module_name, module_path)\n",
        "        module = importlib.util.module_from_spec(spec)\n",
        "        spec.loader.exec_module(module)\n",
        "        return module\n",
        "\n",
        "    def _filter_imports_and_builtins(self, code):\n",
        "        tree = ast.parse(code)\n",
        "        for node in ast.walk(tree):\n",
        "            if isinstance(node, ast.Import):\n",
        "                for alias in node.names:\n",
        "                    if alias.name not in self.allowed_imports:\n",
        "                        raise ImportError(f\"Unauthorized import: {alias.name}\")\n",
        "            elif isinstance(node, ast.ImportFrom):\n",
        "                if node.module not in self.allowed_imports:\n",
        "                    raise ImportError(f\"Unauthorized import: {node.module}\")\n",
        "            elif isinstance(node, ast.Call) and isinstance(node.func, ast.Name):\n",
        "                if node.func.id in self.disallowed_builtins:\n",
        "                    raise NameError(f\"Unauthorized builtin function: {node.func.id}\")\n",
        "            elif isinstance(node, ast.Attribute):\n",
        "                if node.attr in self.disallowed_methods:\n",
        "                    raise NameError(f\"Unauthorized method used: {node.attr}\")\n",
        "\n",
        "\n",
        "    def set_test_cases(self, test_cases_folder):\n",
        "        for problem in self.problem_list:\n",
        "            file_path = os.path.join(test_cases_folder, f\"{problem}.json\")\n",
        "            if os.path.exists(file_path):\n",
        "                with open(file_path) as file:\n",
        "                    data = json.load(file)\n",
        "                    self.input_data[problem] = data.get('input_data', [])\n",
        "                    self.expected_outputs[problem] = data.get('expected_outputs', [])\n",
        "                    self.points[problem] = data.get('points', [])\n",
        "                    self.time_limits[problem] = data.get('time_limits', [])\n",
        "\n",
        "    def _log(self, message, log_file, verbose=False):\n",
        "        if verbose:\n",
        "            print(message)\n",
        "        with open(log_file, 'a') as file:\n",
        "            file.write(message + \"\\n\")\n",
        "\n",
        "    def evaluate(self, target_problems=\"all\", verbose=False):\n",
        "        total_points = 0\n",
        "        max_points = 0\n",
        "        log_file = f\"{self.student_module_name}_result.txt\"\n",
        "        open(log_file, 'w').close()  # Clear the log file\n",
        "\n",
        "        for problem in self.problem_list:\n",
        "            if target_problems != \"all\" and problem not in target_problems:\n",
        "                continue\n",
        "\n",
        "            if problem not in self.input_data:\n",
        "                self._log(f\"No test cases set for {problem}.\", log_file, verbose=verbose)\n",
        "                continue\n",
        "\n",
        "            for idx, (test_case, expected_output, point, time_limit) in enumerate(zip(self.input_data[problem], self.expected_outputs[problem], self.points[problem], self.time_limits[problem])):\n",
        "                problem_func = getattr(self.student_module, problem, None)\n",
        "                if not problem_func:\n",
        "                    self._log(f\"No implementation for {problem}. Skipping...\", log_file, verbose=verbose)\n",
        "                    continue\n",
        "\n",
        "                try:\n",
        "                    start_time = time.time()\n",
        "                    student_output = problem_func(test_case)\n",
        "                    ### For Problem 3(e)\n",
        "                    ### Comment the above line and Uncomment from here...\n",
        "                    #l = [None, True]\n",
        "                    #student_output = problem_func(*l)\n",
        "                    ### Until here\n",
        "\n",
        "                    elapsed_time = time.time() - start_time\n",
        "                except Exception as e:\n",
        "                    self._log(f\"Error executing {problem} for test case {idx}: {e}\", log_file, verbose=verbose)\n",
        "                    continue\n",
        "\n",
        "                if elapsed_time > time_limit:\n",
        "                    self._log(f\"Test case {idx} for {problem} exceeded the time limit of {time_limit} seconds. Time taken: {elapsed_time:.2f} seconds.\", log_file, verbose=verbose)\n",
        "                    continue\n",
        "\n",
        "                if student_output == expected_output:\n",
        "                    total_points += point\n",
        "                else:\n",
        "                    self._log(f\"{problem} failed for test case {idx}. Expected {expected_output}, got {student_output}\", log_file, verbose=verbose)\n",
        "\n",
        "                max_points += point\n",
        "\n",
        "        # Check for unauthorized imports and builtins\n",
        "        with open(f\"{self.student_module_name}.py\") as file:\n",
        "            code = file.read()\n",
        "            try:\n",
        "                self._filter_imports_and_builtins(code)\n",
        "            except (ImportError, NameError) as e:\n",
        "                self._log(str(e), log_file, verbose=verbose)\n",
        "                total_points = 0\n",
        "\n",
        "        self._log(f\"Total points: {total_points}/{max_points}\", log_file, verbose=verbose)\n",
        "        return total_points"
      ]
    },
    {
      "cell_type": "code",
      "source": [
        "\n"
      ],
      "metadata": {
        "id": "5bui1Oe72M6Q"
      },
      "execution_count": 57,
      "outputs": []
    },
    {
      "cell_type": "code",
      "execution_count": 58,
      "metadata": {
        "id": "qb8ZAcKBYM3A",
        "colab": {
          "base_uri": "https://localhost:8080/"
        },
        "outputId": "077e1d10-6fd5-49ba-8ffa-19ef88012ee7"
      },
      "outputs": [
        {
          "output_type": "stream",
          "name": "stdout",
          "text": [
            "Total points: 23/23\n"
          ]
        },
        {
          "output_type": "execute_result",
          "data": {
            "text/plain": [
              "23"
            ]
          },
          "metadata": {},
          "execution_count": 58
        }
      ],
      "source": [
        "evaluator = Evaluator(\"hw2_2024_00000\")\n",
        "evaluator.set_test_cases(\"test_cases_folder\")\n",
        "evaluator.evaluate(target_problems=\"all\", verbose=True)\n",
        "# evaluator.evaluate(target_problems=[\"problem5\"], verbose=False)"
      ]
    }
  ],
  "metadata": {
    "kernelspec": {
      "display_name": "Python 3",
      "language": "python",
      "name": "python3"
    },
    "language_info": {
      "codemirror_mode": {
        "name": "ipython",
        "version": 3
      },
      "file_extension": ".py",
      "mimetype": "text/x-python",
      "name": "python",
      "nbconvert_exporter": "python",
      "pygments_lexer": "ipython3",
      "version": "3.11.6"
    },
    "colab": {
      "provenance": [],
      "include_colab_link": true
    }
  },
  "nbformat": 4,
  "nbformat_minor": 0
}